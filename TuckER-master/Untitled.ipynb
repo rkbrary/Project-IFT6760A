{
 "cells": [
  {
   "cell_type": "code",
   "execution_count": 1,
   "metadata": {},
   "outputs": [],
   "source": [
    "from load_data import Data"
   ]
  },
  {
   "cell_type": "code",
   "execution_count": 2,
   "metadata": {},
   "outputs": [],
   "source": [
    "d = Data(\"data/WN18RR/\", reverse=False)"
   ]
  },
  {
   "cell_type": "code",
   "execution_count": 4,
   "metadata": {},
   "outputs": [
    {
     "data": {
      "text/plain": [
       "['_also_see',\n",
       " '_derivationally_related_form',\n",
       " '_has_part',\n",
       " '_hypernym',\n",
       " '_instance_hypernym',\n",
       " '_member_meronym',\n",
       " '_member_of_domain_region',\n",
       " '_member_of_domain_usage',\n",
       " '_similar_to',\n",
       " '_synset_domain_topic_of',\n",
       " '_verb_group']"
      ]
     },
     "execution_count": 4,
     "metadata": {},
     "output_type": "execute_result"
    }
   ],
   "source": [
    "d.train_relations"
   ]
  },
  {
   "cell_type": "code",
   "execution_count": 4,
   "metadata": {},
   "outputs": [],
   "source": [
    "a = load_data(\"data/WN18RR/\", \"train\", reverse=False)\n",
    "b = load_data(\"data/WN18RR/\", \"valid\", reverse=False)\n",
    "c = load_data(\"data/WN18RR/\", \"test\", reverse=False)\n",
    "\n",
    "data = a+b+c\n",
    "entities= sorted(list(set([d[0] for d in data]+[d[2] for d in data])))\n",
    "train_relations= sorted(list(set([d[1] for d in a])))\n",
    "val_relations = sorted(list(set([d[1] for d in b])))\n",
    "test_relations = sorted(list(set([d[1] for d in c])))\n",
    "relations= train_relations + [i for i in val_relations \\\n",
    "             if i not in train_relations] + [i for i in test_relations \\\n",
    "             if i not in train_relations]\n",
    "# print(relations)\n"
   ]
  },
  {
   "cell_type": "code",
   "execution_count": 11,
   "metadata": {},
   "outputs": [
    {
     "name": "stdout",
     "output_type": "stream",
     "text": [
      "['_derivationally_related_form', '_verb_group', '_similar_to', '_synset_domain_topic_of', '_hypernym', '_also_see']\n"
     ]
    }
   ],
   "source": [
    "\n",
    "A = set(tuple (e) for e in data)\n",
    "r = [r for i1, r, i2 in A if (i2, r, i1) in A]\n",
    "notasymmetricrelations = list(set(r))\n",
    "print(notasymmetricrelations)"
   ]
  },
  {
   "cell_type": "code",
   "execution_count": 12,
   "metadata": {},
   "outputs": [
    {
     "name": "stdout",
     "output_type": "stream",
     "text": [
      "['_member_of_domain_region', '_synset_domain_topic_of', '_member_of_domain_usage', '_has_part', '_hypernym', '_instance_hypernym', '_member_meronym', '_also_see']\n"
     ]
    }
   ],
   "source": [
    "A = set(tuple (e) for e in data)\n",
    "r = [r for i1, r, i2 in A if (i2, r, i1) not in A]\n",
    "notsymmetricrelations = list(set(r))\n",
    "print(notsymmetricrelations)"
   ]
  },
  {
   "cell_type": "code",
   "execution_count": 32,
   "metadata": {},
   "outputs": [],
   "source": [
    "import ipywidgets as widgets\n",
    "from IPython.display import display"
   ]
  },
  {
   "cell_type": "code",
   "execution_count": 60,
   "metadata": {},
   "outputs": [
    {
     "data": {
      "application/vnd.jupyter.widget-view+json": {
       "model_id": "b18ad20de9d44c9aa5aa530e6e8eac03",
       "version_major": 2,
       "version_minor": 0
      },
      "text/plain": [
       "Textarea(value='Hello World', description='String:')"
      ]
     },
     "metadata": {},
     "output_type": "display_data"
    }
   ],
   "source": [
    "f=widgets.Textarea(\n",
    "    value='Hello World',\n",
    "    description='String:',\n",
    "    disabled=False\n",
    ")\n",
    "display(f)"
   ]
  },
  {
   "cell_type": "code",
   "execution_count": 61,
   "metadata": {},
   "outputs": [
    {
     "data": {
      "application/vnd.jupyter.widget-view+json": {
       "model_id": "b18ad20de9d44c9aa5aa530e6e8eac03",
       "version_major": 2,
       "version_minor": 0
      },
      "text/plain": [
       "Textarea(value='Hello World', description='String:')"
      ]
     },
     "metadata": {},
     "output_type": "display_data"
    }
   ],
   "source": [
    "display(f)\n",
    "for i in range(100):\n",
    "    f.value+=' ha'\n",
    "#     f.value='I have {} dollars'.format(i)\n",
    "    time.sleep(0.01)\n"
   ]
  }
 ],
 "metadata": {
  "kernelspec": {
   "display_name": "Python 3",
   "language": "python",
   "name": "python3"
  },
  "language_info": {
   "codemirror_mode": {
    "name": "ipython",
    "version": 3
   },
   "file_extension": ".py",
   "mimetype": "text/x-python",
   "name": "python",
   "nbconvert_exporter": "python",
   "pygments_lexer": "ipython3",
   "version": "3.7.6"
  }
 },
 "nbformat": 4,
 "nbformat_minor": 4
}
