{
 "cells": [
  {
   "cell_type": "code",
   "execution_count": 3,
   "metadata": {},
   "outputs": [],
   "source": [
    "def load_data(data_dir, data_type=\"train\", reverse=False):\n",
    "    with open(\"%s%s.txt\" % (data_dir, data_type), \"r\") as f:\n",
    "        data = f.read().strip().split(\"\\n\")\n",
    "        data = [i.split() for i in data]\n",
    "        if reverse:\n",
    "            data += [[i[2], i[1]+\"_reverse\", i[0]] for i in data]\n",
    "    return data"
   ]
  },
  {
   "cell_type": "code",
   "execution_count": 4,
   "metadata": {},
   "outputs": [],
   "source": [
    "a = load_data(\"data/WN18RR/\", \"train\", reverse=False)\n",
    "b = load_data(\"data/WN18RR/\", \"valid\", reverse=False)\n",
    "c = load_data(\"data/WN18RR/\", \"test\", reverse=False)\n",
    "\n",
    "data = a+b+c\n",
    "entities= sorted(list(set([d[0] for d in data]+[d[2] for d in data])))\n",
    "train_relations= sorted(list(set([d[1] for d in a])))\n",
    "val_relations = sorted(list(set([d[1] for d in b])))\n",
    "test_relations = sorted(list(set([d[1] for d in c])))\n",
    "relations= train_relations + [i for i in val_relations \\\n",
    "             if i not in train_relations] + [i for i in test_relations \\\n",
    "             if i not in train_relations]\n",
    "# print(relations)\n"
   ]
  },
  {
   "cell_type": "code",
   "execution_count": 11,
   "metadata": {},
   "outputs": [
    {
     "name": "stdout",
     "output_type": "stream",
     "text": [
      "['_derivationally_related_form', '_verb_group', '_similar_to', '_synset_domain_topic_of', '_hypernym', '_also_see']\n"
     ]
    }
   ],
   "source": [
    "\n",
    "A = set(tuple (e) for e in data)\n",
    "r = [r for i1, r, i2 in A if (i2, r, i1) in A]\n",
    "notasymmetricrelations = list(set(r))\n",
    "print(notasymmetricrelations)"
   ]
  },
  {
   "cell_type": "code",
   "execution_count": 12,
   "metadata": {},
   "outputs": [
    {
     "name": "stdout",
     "output_type": "stream",
     "text": [
      "['_member_of_domain_region', '_synset_domain_topic_of', '_member_of_domain_usage', '_has_part', '_hypernym', '_instance_hypernym', '_member_meronym', '_also_see']\n"
     ]
    }
   ],
   "source": [
    "A = set(tuple (e) for e in data)\n",
    "r = [r for i1, r, i2 in A if (i2, r, i1) not in A]\n",
    "notsymmetricrelations = list(set(r))\n",
    "print(notsymmetricrelations)"
   ]
  }
 ],
 "metadata": {
  "kernelspec": {
   "display_name": "Python 3",
   "language": "python",
   "name": "python3"
  },
  "language_info": {
   "codemirror_mode": {
    "name": "ipython",
    "version": 3
   },
   "file_extension": ".py",
   "mimetype": "text/x-python",
   "name": "python",
   "nbconvert_exporter": "python",
   "pygments_lexer": "ipython3",
   "version": "3.7.6"
  }
 },
 "nbformat": 4,
 "nbformat_minor": 4
}
