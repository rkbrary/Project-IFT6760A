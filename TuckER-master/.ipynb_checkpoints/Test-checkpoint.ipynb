{
 "cells": [
  {
   "cell_type": "code",
   "execution_count": null,
   "metadata": {},
   "outputs": [],
   "source": [
    "%run main.py --dataset=WN18RR --num_iterations=200 --batch_size=128 --lr=0.003 --dr=1.0 --edim=200 --rdim=30 --input_dropout=0.2 --hidden_dropout1=0.2 --hidden_dropout2=0.3 --label_smoothing=0.1 --bk=False"
   ]
  },
  {
   "cell_type": "code",
   "execution_count": 1,
   "metadata": {
    "scrolled": true
   },
   "outputs": [],
   "source": [
    "import wandb\n",
    "wandb.login('1e505430989c86455d2d70e1ef990b4bc50cb69c')\n",
    "from load_data import Data\n",
    "import numpy as np\n",
    "import torch\n",
    "import time\n",
    "from collections import defaultdict\n",
    "from model import *\n",
    "# from model_sym import *\n",
    "from torch.optim.lr_scheduler import ExponentialLR\n",
    "import argparse\n",
    "import os"
   ]
  },
  {
   "cell_type": "code",
   "execution_count": 2,
   "metadata": {},
   "outputs": [],
   "source": [
    "dataset = \"WN18RR\"\n",
    "data_dir = \"data/%s/\" % dataset\n",
    "d = Data(data_dir=data_dir, reverse=False)\n",
    "kwargs = {\"input_dropout\": 0.2, \"hidden_dropout1\": 0.2,\n",
    "                       \"hidden_dropout2\": 0.3, \"bk\": False}"
   ]
  },
  {
   "cell_type": "code",
   "execution_count": 3,
   "metadata": {},
   "outputs": [
    {
     "data": {
      "text/plain": [
       "<All keys matched successfully>"
      ]
     },
     "execution_count": 3,
     "metadata": {},
     "output_type": "execute_result"
    }
   ],
   "source": [
    "model = TuckER(d,200,15,**kwargs)\n",
    "# state = wandb.restore('model_state_bk.pth',run_path='rkbrary/ift6760-exp/e471evn8') #rkbrary/ift6760-exp/1wtu4v7p\n",
    "# checkpoint = torch.load(state.name)\n",
    "checkpoint=torch.load('states/model_state.pt')\n",
    "model.load_state_dict(checkpoint['model_state_dict'])"
   ]
  },
  {
   "cell_type": "code",
   "execution_count": 4,
   "metadata": {},
   "outputs": [],
   "source": [
    "# state.name"
   ]
  },
  {
   "cell_type": "code",
   "execution_count": 5,
   "metadata": {},
   "outputs": [],
   "source": [
    "# for name, param in model.named_parameters():\n",
    "#     print(name)\n",
    "#     if name=='W': W=param\n",
    "#     elif name=='R.weight': R=param"
   ]
  },
  {
   "cell_type": "code",
   "execution_count": 6,
   "metadata": {},
   "outputs": [],
   "source": [
    "# W_r=torch.einsum('ijk,ni->njk',W.data,R.to('cuda')).to('cpu').data\n",
    "# constraints=torch.tensor([0,1,-1,0,-1,-1,-1,-1,1,0,1])"
   ]
  },
  {
   "cell_type": "code",
   "execution_count": 7,
   "metadata": {},
   "outputs": [],
   "source": [
    "# for i in range(len(W_r)):\n",
    "#     print(torch.norm(W_r[i]+W_r[i].t()),torch.norm(W_r[i]-W_r[i].t()), constraints[i], d.relations[i])"
   ]
  },
  {
   "cell_type": "code",
   "execution_count": 8,
   "metadata": {},
   "outputs": [],
   "source": [
    "# E=model.E.weight.data"
   ]
  },
  {
   "cell_type": "code",
   "execution_count": 9,
   "metadata": {},
   "outputs": [
    {
     "data": {
      "text/plain": [
       "TuckER(\n",
       "  (E): Embedding(40943, 200, padding_idx=0)\n",
       "  (R): Embedding(11, 15, padding_idx=0)\n",
       "  (input_dropout): Dropout(p=0.2, inplace=False)\n",
       "  (hidden_dropout1): Dropout(p=0.2, inplace=False)\n",
       "  (hidden_dropout2): Dropout(p=0.3, inplace=False)\n",
       "  (loss): BCELoss()\n",
       "  (bn0): BatchNorm1d(200, eps=1e-05, momentum=0.1, affine=True, track_running_stats=True)\n",
       "  (bn1): BatchNorm1d(200, eps=1e-05, momentum=0.1, affine=True, track_running_stats=True)\n",
       ")"
      ]
     },
     "execution_count": 9,
     "metadata": {},
     "output_type": "execute_result"
    }
   ],
   "source": [
    "model.cuda()\n",
    "model.eval()"
   ]
  },
  {
   "cell_type": "code",
   "execution_count": 10,
   "metadata": {},
   "outputs": [],
   "source": [
    "hits = []\n",
    "ranks = []\n",
    "for i in range(10):\n",
    "    hits.append([])\n",
    "true_rel=np.zeros(len(d.relations))\n",
    "false_rel=np.zeros(len(d.relations))\n",
    "entity_idxs = {d.entities[i]:i for i in range(len(d.entities))}\n",
    "relation_idxs = {d.relations[i]:i for i in range(len(d.relations))}\n",
    "def get_data_idxs(data):\n",
    "    data_idxs = [(entity_idxs[data[i][0]], relation_idxs[data[i][1]], \\\n",
    "                  entity_idxs[data[i][2]]) for i in range(len(data))]\n",
    "    return data_idxs\n",
    "\n",
    "def get_er_vocab(data):\n",
    "    er_vocab = defaultdict(list)\n",
    "    for triple in data:\n",
    "        er_vocab[(triple[0], triple[1])].append(triple[2])\n",
    "    return er_vocab\n",
    "\n",
    "def get_batch(er_vocab, er_vocab_pairs, idx):\n",
    "    batch = er_vocab_pairs[idx:idx+128]\n",
    "    targets = np.zeros((len(batch), len(d.entities)))\n",
    "    for idx, pair in enumerate(batch):\n",
    "        targets[idx, er_vocab[pair]] = 1.\n",
    "    targets = torch.FloatTensor(targets)\n",
    "    return np.array(batch), targets\n",
    "\n",
    "test_data_idxs = get_data_idxs(d.test_data)\n",
    "er_vocab = get_er_vocab(get_data_idxs(d.test_data))\n",
    "\n",
    "for i in range(0, len(test_data_idxs), 128):\n",
    "    data_batch, _ = get_batch(er_vocab, test_data_idxs, i)\n",
    "    e1_idx = torch.tensor(data_batch[:,0]).type(torch.LongTensor).cuda()\n",
    "    r_idx = torch.tensor(data_batch[:,1]).type(torch.LongTensor).cuda()\n",
    "    e2_idx = torch.tensor(data_batch[:,2])\n",
    "    predictions = model.forward(e1_idx, r_idx)\n",
    "#     print(predictions.data.to('cpu'))\n",
    "\n",
    "#     for j in range(data_batch.shape[0]):\n",
    "#         filt = er_vocab[(data_batch[j][0], data_batch[j][1])]\n",
    "#         target_value = predictions[j,e2_idx[j]].item()\n",
    "#         predictions[j, filt] = 0.0\n",
    "#         predictions[j, e2_idx[j]] = target_value\n",
    "    pred_idx = torch.argmax(predictions, dim=1).to('cpu')\n",
    "    for i in range(len(pred_idx)):\n",
    "        if (pred_idx[i]==e2_idx[i]): true_rel[r_idx[i]]+=1\n",
    "        else: false_rel[r_idx[i]]+=1\n",
    "    for j in range(data_batch.shape[0]):\n",
    "        filt = er_vocab[(data_batch[j][0], data_batch[j][1])]\n",
    "        target_value = predictions[j,e2_idx[j]].item()\n",
    "        predictions[j, filt] = 0.0\n",
    "        predictions[j, e2_idx[j]] = target_value\n",
    "\n",
    "    sort_values, sort_idxs = torch.sort(predictions, dim=1, descending=True)\n",
    "\n",
    "    sort_idxs = sort_idxs.cpu().numpy()\n",
    "    for j in range(data_batch.shape[0]):\n",
    "        rank = np.where(sort_idxs[j]==e2_idx[j].item())[0][0]\n",
    "        ranks.append(rank+1)\n",
    "\n",
    "        for hits_level in range(10):\n",
    "            if rank <= hits_level:\n",
    "                hits[hits_level].append(1.0)\n",
    "            else:\n",
    "                hits[hits_level].append(0.0)"
   ]
  },
  {
   "cell_type": "code",
   "execution_count": 11,
   "metadata": {},
   "outputs": [
    {
     "data": {
      "text/plain": [
       "0.024250159540523293"
      ]
     },
     "execution_count": 11,
     "metadata": {},
     "output_type": "execute_result"
    }
   ],
   "source": [
    "np.mean(hits[0])"
   ]
  },
  {
   "cell_type": "code",
   "execution_count": 12,
   "metadata": {},
   "outputs": [
    {
     "data": {
      "text/plain": [
       "array([0.        , 0.02141527, 0.        , 0.01438849, 0.19672131,\n",
       "       0.        , 0.        , 0.        , 0.        , 0.09649123,\n",
       "       0.        ])"
      ]
     },
     "execution_count": 12,
     "metadata": {},
     "output_type": "execute_result"
    }
   ],
   "source": [
    "true_rel/(true_rel+false_rel)"
   ]
  },
  {
   "cell_type": "code",
   "execution_count": null,
   "metadata": {},
   "outputs": [],
   "source": [
    "false_rel/(true_rel+false_rel)"
   ]
  },
  {
   "cell_type": "code",
   "execution_count": null,
   "metadata": {},
   "outputs": [],
   "source": [
    "true_rel"
   ]
  },
  {
   "cell_type": "code",
   "execution_count": null,
   "metadata": {},
   "outputs": [],
   "source": [
    "false_rel"
   ]
  },
  {
   "cell_type": "code",
   "execution_count": null,
   "metadata": {},
   "outputs": [],
   "source": [
    "sum(true_rel+false_rel)"
   ]
  },
  {
   "cell_type": "code",
   "execution_count": null,
   "metadata": {},
   "outputs": [],
   "source": [
    "score=[]\n",
    "for e in E:\n",
    "    score=torch.sigmoid(torch.einsum('j,ijk,lk->il',e,W_r,E))\n",
    "    score.size()"
   ]
  },
  {
   "cell_type": "code",
   "execution_count": null,
   "metadata": {},
   "outputs": [],
   "source": []
  }
 ],
 "metadata": {
  "kernelspec": {
   "display_name": "Python 3",
   "language": "python",
   "name": "python3"
  },
  "language_info": {
   "codemirror_mode": {
    "name": "ipython",
    "version": 3
   },
   "file_extension": ".py",
   "mimetype": "text/x-python",
   "name": "python",
   "nbconvert_exporter": "python",
   "pygments_lexer": "ipython3",
   "version": "3.7.6"
  }
 },
 "nbformat": 4,
 "nbformat_minor": 4
}
